{
 "cells": [
  {
   "cell_type": "markdown",
   "id": "783db791-4025-41d4-9c57-f0ace84f999f",
   "metadata": {},
   "source": [
    "## Import necessary libraries"
   ]
  },
  {
   "cell_type": "code",
   "execution_count": 3,
   "id": "aedbe948-23f3-4da2-adfc-d2232b858d4b",
   "metadata": {},
   "outputs": [],
   "source": [
    "import pandas as pd\n",
    "import numpy as np\n",
    "import os\n",
    "import glob"
   ]
  },
  {
   "cell_type": "markdown",
   "id": "c9c31747-1d59-4dc8-b17b-d00a8e7e92c3",
   "metadata": {},
   "source": [
    "## Eagle-I data processing"
   ]
  },
  {
   "cell_type": "code",
   "execution_count": null,
   "id": "e6a75978-ff07-4556-b87b-6730da60e472",
   "metadata": {},
   "outputs": [],
   "source": [
    "\n",
    "from datetime import timedelta\n",
    "\n",
    "# Path to the directory containing the CSV files\n",
    "input_directory = r\"F:\\onedrive\\OneDrive - University of Central Florida\\combied_eaglei\"\n",
    "output_directory = r\"F:\\onedrive\\OneDrive - University of Central Florida\\compound_paper_data\\SAIDI_raw\"\n",
    "customer_track = []\n",
    "# Ensure the output directory exists\n",
    "if not os.path.exists(output_directory):\n",
    "    os.makedirs(output_directory)\n",
    "\n",
    "# Function to process each file\n",
    "def process_file(filepath):\n",
    "    df = pd.read_csv(filepath, parse_dates=['run_start_time'])\n",
    "    data_clean = df.dropna(axis=0)\n",
    "    customer =data_clean['sum'].quantile(0.85)\n",
    "    #print(f\"Number of customers: {data_clean['sum'].quantile(0.85)}\")\n",
    "    data = data_clean[data_clean['sum'] > data_clean['sum'].quantile(0.85)].copy()\n",
    "    data.sort_values(by='run_start_time', inplace=True)\n",
    "\n",
    "    events = []\n",
    "    current_event = []\n",
    "    for index, row in data.iterrows():\n",
    "        if current_event:\n",
    "            if row['run_start_time'] - current_event[-1]['run_start_time'] <= timedelta(minutes=60):\n",
    "                current_event.append(row)\n",
    "            else:\n",
    "                events.append(current_event)\n",
    "                current_event = [row]\n",
    "        else:\n",
    "            current_event.append(row)\n",
    "\n",
    "    if current_event:\n",
    "        events.append(current_event)\n",
    "\n",
    "    processed_events = []\n",
    "    for event in events:\n",
    "        event_df = pd.DataFrame(event)\n",
    "        start_time = event_df['run_start_time'].min()\n",
    "        end_time = event_df['run_start_time'].max()\n",
    "        total_max = event_df['sum'].max()\n",
    "        fips_code = event_df.iloc[0]['fips_code']  \n",
    "        county = event_df.iloc[0]['county']\n",
    "        total_cust = event_df.iloc[0]['Total Customers']\n",
    "        processed_events.append({\n",
    "            'start_time': start_time,\n",
    "            'end_time': end_time,\n",
    "            'total_max': total_max,\n",
    "            'fips_code': fips_code,\n",
    "            'county': county,\n",
    "            'total_cust': total_cust\n",
    "        })\n",
    "\n",
    "    processed_events_df = pd.DataFrame(processed_events)\n",
    "    processed_events_df['duration'] = (processed_events_df['end_time'] - processed_events_df['start_time']).dt.total_seconds() / 3600\n",
    "    processed_events_df =  processed_events_df[processed_events_df['duration'] > 1]\n",
    "    processed_events_df['cust_hour'] = processed_events_df['total_max'] * processed_events_df['duration']\n",
    "    processed_events_df = processed_events_df.drop(['end_time', 'fips_code'], axis=1)\n",
    "    processed_events_df.rename(columns={'start_time': 'Time'}, inplace=True)\n",
    "    processed_events_df.set_index('Time', inplace=True)\n",
    "    processed_events_df = processed_events_df.resample('D').sum(numeric_only=True)\n",
    "    \n",
    "    # Assign 'total_max' and 'total_cust' to each row\n",
    "    processed_events_df['total_max'] = processed_events_df['total_max'].fillna(0)\n",
    "    processed_events_df['total_cust'] = total_cust\n",
    "\n",
    "    output_filepath = os.path.join(output_directory, f\"{county}_daily_outage.csv\")\n",
    "    #processed_events_df.to_csv(output_filepath, index=True)\n",
    "    customer_track.append({'anme': county, 'customers': customer})\n",
    "    #print(f\"Processed and saved data for {county}\")\n",
    "\n",
    "# Loop through each CSV file in the directory\n",
    "for filepath in glob.glob(os.path.join(input_directory, \"*.csv\")):\n",
    "    process_file(filepath)\n"
   ]
  },
  {
   "cell_type": "markdown",
   "id": "815b3e55-d48c-411e-8cb3-8ea335a47572",
   "metadata": {},
   "source": []
  }
 ],
 "metadata": {
  "kernelspec": {
   "display_name": "Python 3 (ipykernel)",
   "language": "python",
   "name": "python3"
  },
  "language_info": {
   "codemirror_mode": {
    "name": "ipython",
    "version": 3
   },
   "file_extension": ".py",
   "mimetype": "text/x-python",
   "name": "python",
   "nbconvert_exporter": "python",
   "pygments_lexer": "ipython3",
   "version": "3.11.7"
  }
 },
 "nbformat": 4,
 "nbformat_minor": 5
}
