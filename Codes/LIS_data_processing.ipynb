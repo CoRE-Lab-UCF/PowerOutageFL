{
 "cells": [
  {
   "cell_type": "markdown",
   "id": "b79498f3-8815-43ea-be4f-3b9f62d70ca3",
   "metadata": {},
   "source": [
    "## Import necessary libraries"
   ]
  },
  {
   "cell_type": "code",
   "execution_count": 1,
   "id": "36a6dbbb-c7fe-4e23-a6d3-71ba8dac7119",
   "metadata": {},
   "outputs": [],
   "source": [
    "import pandas as pd\n",
    "import numpy as np \n",
    "import geopandas as gpd\n",
    "import matplotlib.pyplot as plt\n",
    "import os\n",
    "import xarray as xr"
   ]
  },
  {
   "cell_type": "markdown",
   "id": "57130531-865f-49b8-b092-77714c9dadcf",
   "metadata": {},
   "source": [
    "## Read al the csv files"
   ]
  },
  {
   "cell_type": "code",
   "execution_count": 2,
   "id": "89638716-25dc-4945-8e35-1fb7ce81b777",
   "metadata": {},
   "outputs": [
    {
     "name": "stdout",
     "output_type": "stream",
     "text": [
      "<class 'pandas.core.frame.DataFrame'>\n",
      "RangeIndex: 28048354 entries, 0 to 28048353\n",
      "Data columns (total 4 columns):\n",
      " #   Column       Dtype  \n",
      "---  ------       -----  \n",
      " 0   #ZDAY        int64  \n",
      " 1   CENTERLON    float64\n",
      " 2   CENTERLAT    float64\n",
      " 3   TOTAL_COUNT  int64  \n",
      "dtypes: float64(2), int64(2)\n",
      "memory usage: 856.0 MB\n"
     ]
    }
   ],
   "source": [
    "import glob\n",
    "folder_path = r'F:\\Sam\\NLDN_LIS\\*.csv'\n",
    "csv_files = glob.glob(folder_path)\n",
    "data= []\n",
    "for file in csv_files:\n",
    "    df = pd.read_csv(file, skiprows=2)\n",
    "    data.append(df)\n",
    "combined_data = pd.concat(data, ignore_index = True)\n",
    "combined_data.info()"
   ]
  },
  {
   "cell_type": "code",
   "execution_count": 3,
   "id": "a436b6f6-a234-44cb-ab0a-a8573f2ed596",
   "metadata": {},
   "outputs": [],
   "source": [
    "# rename date column to time\n",
    "combined_data.rename(columns = {'#ZDAY': 'Time'}, inplace = True)"
   ]
  },
  {
   "cell_type": "code",
   "execution_count": 4,
   "id": "bd869cf5-2fde-4480-8465-99672ae10d84",
   "metadata": {},
   "outputs": [
    {
     "name": "stdout",
     "output_type": "stream",
     "text": [
      "<class 'pandas.core.frame.DataFrame'>\n",
      "RangeIndex: 28048354 entries, 0 to 28048353\n",
      "Data columns (total 4 columns):\n",
      " #   Column       Dtype  \n",
      "---  ------       -----  \n",
      " 0   Time         int64  \n",
      " 1   CENTERLON    float64\n",
      " 2   CENTERLAT    float64\n",
      " 3   TOTAL_COUNT  int64  \n",
      "dtypes: float64(2), int64(2)\n",
      "memory usage: 856.0 MB\n"
     ]
    }
   ],
   "source": [
    "combined_data.info()"
   ]
  },
  {
   "cell_type": "code",
   "execution_count": 5,
   "id": "9826b904-9242-4f9b-8b2d-2ad1c505b4cf",
   "metadata": {},
   "outputs": [],
   "source": [
    "## convert time column to datetime\n",
    "combined_data['Time'] = pd.to_datetime(combined_data['Time'] , format='%Y%m%d')"
   ]
  },
  {
   "cell_type": "code",
   "execution_count": 6,
   "id": "7f914a5c-aa35-422e-a41b-3328fe3ed290",
   "metadata": {},
   "outputs": [
    {
     "data": {
      "text/html": [
       "<div>\n",
       "<style scoped>\n",
       "    .dataframe tbody tr th:only-of-type {\n",
       "        vertical-align: middle;\n",
       "    }\n",
       "\n",
       "    .dataframe tbody tr th {\n",
       "        vertical-align: top;\n",
       "    }\n",
       "\n",
       "    .dataframe thead th {\n",
       "        text-align: right;\n",
       "    }\n",
       "</style>\n",
       "<table border=\"1\" class=\"dataframe\">\n",
       "  <thead>\n",
       "    <tr style=\"text-align: right;\">\n",
       "      <th></th>\n",
       "      <th>Time</th>\n",
       "      <th>Lon</th>\n",
       "      <th>Lat</th>\n",
       "      <th>Counts</th>\n",
       "    </tr>\n",
       "  </thead>\n",
       "  <tbody>\n",
       "    <tr>\n",
       "      <th>0</th>\n",
       "      <td>2015-01-01</td>\n",
       "      <td>-99.6</td>\n",
       "      <td>29.3</td>\n",
       "      <td>2</td>\n",
       "    </tr>\n",
       "    <tr>\n",
       "      <th>1</th>\n",
       "      <td>2015-01-01</td>\n",
       "      <td>-99.1</td>\n",
       "      <td>29.8</td>\n",
       "      <td>1</td>\n",
       "    </tr>\n",
       "    <tr>\n",
       "      <th>2</th>\n",
       "      <td>2015-01-01</td>\n",
       "      <td>-98.7</td>\n",
       "      <td>29.8</td>\n",
       "      <td>2</td>\n",
       "    </tr>\n",
       "    <tr>\n",
       "      <th>3</th>\n",
       "      <td>2015-01-01</td>\n",
       "      <td>-66.9</td>\n",
       "      <td>36.3</td>\n",
       "      <td>1</td>\n",
       "    </tr>\n",
       "    <tr>\n",
       "      <th>4</th>\n",
       "      <td>2015-01-01</td>\n",
       "      <td>-97.3</td>\n",
       "      <td>30.4</td>\n",
       "      <td>1</td>\n",
       "    </tr>\n",
       "  </tbody>\n",
       "</table>\n",
       "</div>"
      ],
      "text/plain": [
       "        Time   Lon   Lat  Counts\n",
       "0 2015-01-01 -99.6  29.3       2\n",
       "1 2015-01-01 -99.1  29.8       1\n",
       "2 2015-01-01 -98.7  29.8       2\n",
       "3 2015-01-01 -66.9  36.3       1\n",
       "4 2015-01-01 -97.3  30.4       1"
      ]
     },
     "execution_count": 6,
     "metadata": {},
     "output_type": "execute_result"
    }
   ],
   "source": [
    "combined_data = combined_data.rename(columns = {'CENTERLON': 'Lon', 'CENTERLAT': 'Lat', 'TOTAL_COUNT': 'Counts'})\n",
    "combined_data.head()"
   ]
  },
  {
   "cell_type": "code",
   "execution_count": 7,
   "id": "a57d9ce8-8d8a-4dc9-b457-394b166ada39",
   "metadata": {},
   "outputs": [],
   "source": [
    "# Read the shapefile\n",
    "geo_data = gpd.read_file(r\"F:\\Sam\\DOE_CARES\\Florida_county.shp\")\n",
    "\n",
    "# Reproject to the specified coordinate reference system (CRS)\n",
    "geo_data = geo_data.to_crs(epsg=4326)\n",
    "\n",
    "# Convert MultiPolygon geometries to their first Polygon\n",
    "geo_data['geometry'] = [geom.geoms[0] if geom.geom_type == 'MultiPolygon' else geom for geom in geo_data['geometry']]"
   ]
  },
  {
   "cell_type": "code",
   "execution_count": 8,
   "id": "9057ffcb-ba19-406b-9f08-2bf31afb795e",
   "metadata": {},
   "outputs": [],
   "source": [
    "## convert to geodataframe\n",
    "points_gdf = gpd.GeoDataFrame(combined_data, geometry=gpd.points_from_xy(combined_data.Lon, combined_data.Lat))"
   ]
  },
  {
   "cell_type": "code",
   "execution_count": 9,
   "id": "464a8d67-f2aa-4e5d-8e38-6b88f1aec66b",
   "metadata": {},
   "outputs": [],
   "source": [
    "# make sure they are under same crs\n",
    "points_gdf.crs = \"EPSG:4326\""
   ]
  },
  {
   "cell_type": "code",
   "execution_count": 10,
   "id": "80fd4902-fbbb-4d30-8a2a-1a3c127d76a1",
   "metadata": {},
   "outputs": [],
   "source": [
    "# Do spatial join get points within a county\n",
    "joined_data = gpd.sjoin(points_gdf, geo_data, predicate=\"within\")"
   ]
  },
  {
   "cell_type": "code",
   "execution_count": 11,
   "id": "1d2ee037-2451-4e98-acad-5288c7f7147c",
   "metadata": {},
   "outputs": [
    {
     "data": {
      "text/html": [
       "<div>\n",
       "<style scoped>\n",
       "    .dataframe tbody tr th:only-of-type {\n",
       "        vertical-align: middle;\n",
       "    }\n",
       "\n",
       "    .dataframe tbody tr th {\n",
       "        vertical-align: top;\n",
       "    }\n",
       "\n",
       "    .dataframe thead th {\n",
       "        text-align: right;\n",
       "    }\n",
       "</style>\n",
       "<table border=\"1\" class=\"dataframe\">\n",
       "  <thead>\n",
       "    <tr style=\"text-align: right;\">\n",
       "      <th></th>\n",
       "      <th>Time</th>\n",
       "      <th>Lon</th>\n",
       "      <th>Lat</th>\n",
       "      <th>Counts</th>\n",
       "      <th>geometry</th>\n",
       "      <th>index_right</th>\n",
       "      <th>STATEFP</th>\n",
       "      <th>COUNTYFP</th>\n",
       "      <th>COUNTYNS</th>\n",
       "      <th>GEOID</th>\n",
       "      <th>...</th>\n",
       "      <th>CLASSFP</th>\n",
       "      <th>MTFCC</th>\n",
       "      <th>CSAFP</th>\n",
       "      <th>CBSAFP</th>\n",
       "      <th>METDIVFP</th>\n",
       "      <th>FUNCSTAT</th>\n",
       "      <th>ALAND</th>\n",
       "      <th>AWATER</th>\n",
       "      <th>INTPTLAT</th>\n",
       "      <th>INTPTLON</th>\n",
       "    </tr>\n",
       "  </thead>\n",
       "  <tbody>\n",
       "    <tr>\n",
       "      <th>7061</th>\n",
       "      <td>2015-01-04</td>\n",
       "      <td>-85.4</td>\n",
       "      <td>29.6</td>\n",
       "      <td>16</td>\n",
       "      <td>POINT (-85.40000 29.60000)</td>\n",
       "      <td>32</td>\n",
       "      <td>12</td>\n",
       "      <td>005</td>\n",
       "      <td>00295738</td>\n",
       "      <td>12005</td>\n",
       "      <td>...</td>\n",
       "      <td>H1</td>\n",
       "      <td>G4020</td>\n",
       "      <td>None</td>\n",
       "      <td>37460</td>\n",
       "      <td>None</td>\n",
       "      <td>A</td>\n",
       "      <td>1964874034</td>\n",
       "      <td>1833915193</td>\n",
       "      <td>+30.1591402</td>\n",
       "      <td>-085.5343954</td>\n",
       "    </tr>\n",
       "    <tr>\n",
       "      <th>7129</th>\n",
       "      <td>2015-01-04</td>\n",
       "      <td>-85.8</td>\n",
       "      <td>30.4</td>\n",
       "      <td>2</td>\n",
       "      <td>POINT (-85.80000 30.40000)</td>\n",
       "      <td>32</td>\n",
       "      <td>12</td>\n",
       "      <td>005</td>\n",
       "      <td>00295738</td>\n",
       "      <td>12005</td>\n",
       "      <td>...</td>\n",
       "      <td>H1</td>\n",
       "      <td>G4020</td>\n",
       "      <td>None</td>\n",
       "      <td>37460</td>\n",
       "      <td>None</td>\n",
       "      <td>A</td>\n",
       "      <td>1964874034</td>\n",
       "      <td>1833915193</td>\n",
       "      <td>+30.1591402</td>\n",
       "      <td>-085.5343954</td>\n",
       "    </tr>\n",
       "    <tr>\n",
       "      <th>7358</th>\n",
       "      <td>2015-01-04</td>\n",
       "      <td>-85.6</td>\n",
       "      <td>29.9</td>\n",
       "      <td>4</td>\n",
       "      <td>POINT (-85.60000 29.90000)</td>\n",
       "      <td>32</td>\n",
       "      <td>12</td>\n",
       "      <td>005</td>\n",
       "      <td>00295738</td>\n",
       "      <td>12005</td>\n",
       "      <td>...</td>\n",
       "      <td>H1</td>\n",
       "      <td>G4020</td>\n",
       "      <td>None</td>\n",
       "      <td>37460</td>\n",
       "      <td>None</td>\n",
       "      <td>A</td>\n",
       "      <td>1964874034</td>\n",
       "      <td>1833915193</td>\n",
       "      <td>+30.1591402</td>\n",
       "      <td>-085.5343954</td>\n",
       "    </tr>\n",
       "    <tr>\n",
       "      <th>7382</th>\n",
       "      <td>2015-01-04</td>\n",
       "      <td>-85.5</td>\n",
       "      <td>30.0</td>\n",
       "      <td>4</td>\n",
       "      <td>POINT (-85.50000 30.00000)</td>\n",
       "      <td>32</td>\n",
       "      <td>12</td>\n",
       "      <td>005</td>\n",
       "      <td>00295738</td>\n",
       "      <td>12005</td>\n",
       "      <td>...</td>\n",
       "      <td>H1</td>\n",
       "      <td>G4020</td>\n",
       "      <td>None</td>\n",
       "      <td>37460</td>\n",
       "      <td>None</td>\n",
       "      <td>A</td>\n",
       "      <td>1964874034</td>\n",
       "      <td>1833915193</td>\n",
       "      <td>+30.1591402</td>\n",
       "      <td>-085.5343954</td>\n",
       "    </tr>\n",
       "    <tr>\n",
       "      <th>7399</th>\n",
       "      <td>2015-01-04</td>\n",
       "      <td>-85.5</td>\n",
       "      <td>30.1</td>\n",
       "      <td>2</td>\n",
       "      <td>POINT (-85.50000 30.10000)</td>\n",
       "      <td>32</td>\n",
       "      <td>12</td>\n",
       "      <td>005</td>\n",
       "      <td>00295738</td>\n",
       "      <td>12005</td>\n",
       "      <td>...</td>\n",
       "      <td>H1</td>\n",
       "      <td>G4020</td>\n",
       "      <td>None</td>\n",
       "      <td>37460</td>\n",
       "      <td>None</td>\n",
       "      <td>A</td>\n",
       "      <td>1964874034</td>\n",
       "      <td>1833915193</td>\n",
       "      <td>+30.1591402</td>\n",
       "      <td>-085.5343954</td>\n",
       "    </tr>\n",
       "  </tbody>\n",
       "</table>\n",
       "<p>5 rows × 23 columns</p>\n",
       "</div>"
      ],
      "text/plain": [
       "           Time   Lon   Lat  Counts                    geometry  index_right  \\\n",
       "7061 2015-01-04 -85.4  29.6      16  POINT (-85.40000 29.60000)           32   \n",
       "7129 2015-01-04 -85.8  30.4       2  POINT (-85.80000 30.40000)           32   \n",
       "7358 2015-01-04 -85.6  29.9       4  POINT (-85.60000 29.90000)           32   \n",
       "7382 2015-01-04 -85.5  30.0       4  POINT (-85.50000 30.00000)           32   \n",
       "7399 2015-01-04 -85.5  30.1       2  POINT (-85.50000 30.10000)           32   \n",
       "\n",
       "     STATEFP COUNTYFP  COUNTYNS  GEOID  ... CLASSFP  MTFCC CSAFP CBSAFP  \\\n",
       "7061      12      005  00295738  12005  ...      H1  G4020  None  37460   \n",
       "7129      12      005  00295738  12005  ...      H1  G4020  None  37460   \n",
       "7358      12      005  00295738  12005  ...      H1  G4020  None  37460   \n",
       "7382      12      005  00295738  12005  ...      H1  G4020  None  37460   \n",
       "7399      12      005  00295738  12005  ...      H1  G4020  None  37460   \n",
       "\n",
       "     METDIVFP FUNCSTAT       ALAND      AWATER     INTPTLAT      INTPTLON  \n",
       "7061     None        A  1964874034  1833915193  +30.1591402  -085.5343954  \n",
       "7129     None        A  1964874034  1833915193  +30.1591402  -085.5343954  \n",
       "7358     None        A  1964874034  1833915193  +30.1591402  -085.5343954  \n",
       "7382     None        A  1964874034  1833915193  +30.1591402  -085.5343954  \n",
       "7399     None        A  1964874034  1833915193  +30.1591402  -085.5343954  \n",
       "\n",
       "[5 rows x 23 columns]"
      ]
     },
     "execution_count": 11,
     "metadata": {},
     "output_type": "execute_result"
    }
   ],
   "source": [
    "joined_data.head()"
   ]
  },
  {
   "cell_type": "code",
   "execution_count": 12,
   "id": "d340afc1-f798-4027-af29-028bd466c0b6",
   "metadata": {},
   "outputs": [],
   "source": [
    "## Choose only necessary columns for further processing\n",
    "flash_data = joined_data[['Time', 'Counts', 'NAME']]"
   ]
  },
  {
   "cell_type": "code",
   "execution_count": null,
   "id": "05081e82-8151-4b64-b964-a08348ed78ea",
   "metadata": {},
   "outputs": [],
   "source": [
    "# Iterate over each county and write csv files\n",
    "for county_name, county_group in flash_data.groupby(\"NAME\"):\n",
    "\n",
    "    # Define the CSV file path for the current county\n",
    "    csv_file_path = os.path.join(r\"F:\\Sam\\NLDN_LIS\\county\", f\"{county_name}_points.csv\")\n",
    "    county_group.drop('NAME', axis =1)\n",
    "    county_group.set_index('Time', inplace = True)\n",
    "    county_group = county_group.resample('D').sum()\n",
    "    # Export the points to a CSV file\n",
    "    county_group.to_csv(csv_file_path, index=True)\n",
    "    print(f'Processing completed for {county_name}')"
   ]
  },
  {
   "cell_type": "code",
   "execution_count": null,
   "id": "5f61049f-7320-4b5b-8715-c09b6596d6c1",
   "metadata": {},
   "outputs": [],
   "source": []
  }
 ],
 "metadata": {
  "kernelspec": {
   "display_name": "geospatial",
   "language": "python",
   "name": "geospatial"
  },
  "language_info": {
   "codemirror_mode": {
    "name": "ipython",
    "version": 3
   },
   "file_extension": ".py",
   "mimetype": "text/x-python",
   "name": "python",
   "nbconvert_exporter": "python",
   "pygments_lexer": "ipython3",
   "version": "3.11.7"
  }
 },
 "nbformat": 4,
 "nbformat_minor": 5
}
